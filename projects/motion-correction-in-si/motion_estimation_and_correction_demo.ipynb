{
 "cells": [
  {
   "cell_type": "markdown",
   "metadata": {},
   "source": [
    "# motion estimation in spikeinterface\n",
    "\n",
    "In 2021,the SpikeInterface project has started to implemented `sortingcomponents`, a modular module for spike sorting steps.\n",
    "\n",
    "Here is an overview or our progress integrating motion (aka drift) estimation and correction.\n",
    "\n",
    "\n",
    "This notebook will be based on the open dataset from Nick Steinmetz published in 2021\n",
    "\"Imposed motion datasets\" from Steinmetz et al. Science 2021\n",
    "https://figshare.com/articles/dataset/_Imposed_motion_datasets_from_Steinmetz_et_al_Science_2021/14024495\n",
    "\n",
    "\n",
    "The motion estimation is done in several modular steps:\n",
    "  1. detect peaks\n",
    "  2. localize peaks:\n",
    "     * **\"center of mass\"**\n",
    "     * **\"monopolar_triangulation\"** by Julien Boussard and Erdem Varol\n",
    "       https://openreview.net/pdf?id=ohfi44BZPC4\n",
    "  3. estimation motion:\n",
    "     * **rigid** or **non rigid**\n",
    "     * **\"decentralized\"** by Erdem Varol and  Julien Boussard\n",
    "       DOI : 10.1109/ICASSP39728.2021.9414145\n",
    "  4. compute motion corrected peak localizations for visualization\n",
    "\n",
    "\n",
    "Here we will show this chain:\n",
    "* **detect peaks > localize peaks with \"monopolar_triangulation\" > estimation motion \"decentralized\" (both rigid and nonrigid)**\n",
    "\n"
   ]
  },
  {
   "cell_type": "code",
   "execution_count": null,
   "metadata": {},
   "outputs": [],
   "source": [
    "%load_ext autoreload\n",
    "%autoreload 2"
   ]
  },
  {
   "cell_type": "code",
   "execution_count": null,
   "metadata": {},
   "outputs": [],
   "source": [
    "from pathlib import Path\n",
    "import spikeinterface.full as si\n",
    "import numpy as np\n",
    "import matplotlib.pyplot as plt\n",
    "plt.rcParams[\"figure.figsize\"] = (20, 12)\n",
    "from probeinterface.plotting import plot_probe"
   ]
  },
  {
   "cell_type": "code",
   "execution_count": null,
   "metadata": {},
   "outputs": [],
   "source": [
    "# local folder\n",
    "base_folder = Path('/Users/charlie/data/')\n",
    "dataset_folder = base_folder / 'dataset1'\n",
    "preprocess_folder = base_folder / 'dataset1_preprocessed'\n",
    "peak_folder = base_folder / 'dataset1_peaks'\n",
    "peak_folder.mkdir(exist_ok=True)"
   ]
  },
  {
   "cell_type": "code",
   "execution_count": null,
   "metadata": {},
   "outputs": [],
   "source": [
    "# global kwargs for parallel computing\n",
    "job_kwargs = dict(\n",
    "    n_jobs=8,\n",
    "    chunk_size=30_000,\n",
    "    progress_bar=True,\n",
    ")"
   ]
  },
  {
   "cell_type": "code",
   "execution_count": null,
   "metadata": {},
   "outputs": [],
   "source": [
    "# read the file\n",
    "rec = si.read_spikeglx(dataset_folder)\n",
    "rec"
   ]
  },
  {
   "cell_type": "code",
   "execution_count": null,
   "metadata": {},
   "outputs": [],
   "source": [
    "fig, ax = plt.subplots()\n",
    "si.plot_probe_map(rec, ax=ax)\n",
    "ax.set_ylim(-150, 200)"
   ]
  },
  {
   "cell_type": "markdown",
   "metadata": {},
   "source": [
    "## preprocess\n",
    "\n",
    "This takes 4 min for 30min of signals"
   ]
  },
  {
   "cell_type": "code",
   "execution_count": null,
   "metadata": {},
   "outputs": [],
   "source": [
    "if not preprocess_folder.exists():\n",
    "    rec_filtered = si.bandpass_filter(rec, freq_min=300., freq_max=6000.)\n",
    "    rec_preprocessed = si.common_reference(rec_filtered, reference='global', operator='median')\n",
    "    rec_preprocessed.save(folder=preprocess_folder, **job_kwargs)\n",
    "rec_preprocessed = si.load_extractor(preprocess_folder)"
   ]
  },
  {
   "cell_type": "code",
   "execution_count": null,
   "metadata": {},
   "outputs": [],
   "source": [
    "# plot and check spikes\n",
    "si.plot_timeseries(rec_preprocessed, time_range=(100, 110), channel_ids=rec.channel_ids[50:60])"
   ]
  },
  {
   "cell_type": "markdown",
   "metadata": {},
   "source": [
    "## estimate noise"
   ]
  },
  {
   "cell_type": "code",
   "execution_count": null,
   "metadata": {},
   "outputs": [],
   "source": [
    "noise_levels = si.get_noise_levels(rec_preprocessed, return_scaled=False)\n",
    "fig, ax = plt.subplots(figsize=(8,6))\n",
    "ax.hist(noise_levels, bins=10)\n",
    "ax.set_title('noise across channel')"
   ]
  },
  {
   "cell_type": "markdown",
   "metadata": {},
   "source": [
    "## detect peaks\n",
    "\n",
    "This take 1min30s"
   ]
  },
  {
   "cell_type": "code",
   "execution_count": null,
   "metadata": {},
   "outputs": [],
   "source": [
    "from spikeinterface.sortingcomponents.peak_detection import detect_peaks"
   ]
  },
  {
   "cell_type": "code",
   "execution_count": null,
   "metadata": {},
   "outputs": [],
   "source": [
    "if not (peak_folder / 'peaks.npy').exists():\n",
    "    peaks = detect_peaks(\n",
    "        rec_preprocessed,\n",
    "        method='locally_exclusive',\n",
    "        local_radius_um=100,\n",
    "        peak_sign='neg',\n",
    "        detect_threshold=5,\n",
    "        n_shifts=5,\n",
    "        noise_levels=noise_levels,\n",
    "        **job_kwargs,\n",
    "    )\n",
    "    np.save(peak_folder / 'peaks.npy', peaks)\n",
    "peaks = np.load(peak_folder / 'peaks.npy')\n",
    "print(peaks.shape)"
   ]
  },
  {
   "cell_type": "code",
   "execution_count": null,
   "metadata": {},
   "outputs": [],
   "source": [
    "print(rec_preprocessed)"
   ]
  },
  {
   "cell_type": "markdown",
   "metadata": {},
   "source": [
    "## localize peaks\n",
    "\n",
    "Here we chosse **'monopolar_triangulation' with log barrier**"
   ]
  },
  {
   "cell_type": "code",
   "execution_count": null,
   "metadata": {},
   "outputs": [],
   "source": [
    "from spikeinterface.sortingcomponents.peak_localization import localize_peaks"
   ]
  },
  {
   "cell_type": "code",
   "execution_count": null,
   "metadata": {},
   "outputs": [],
   "source": [
    "if not (peak_folder / 'peak_locations_monopolar_triangulation_log_limit.npy').exists():\n",
    "    peak_locations = localize_peaks(\n",
    "        rec_preprocessed,\n",
    "        peaks,\n",
    "        ms_before=0.3,\n",
    "        ms_after=0.6,\n",
    "        method='monopolar_triangulation',\n",
    "        method_kwargs={\n",
    "            'local_radius_um': 100.,\n",
    "            'max_distance_um': 1000.,\n",
    "            'optimizer': 'minimize_with_log_penality',\n",
    "        },\n",
    "        **job_kwargs,\n",
    "    )\n",
    "    np.save(peak_folder / 'peak_locations_monopolar_triangulation_log_limit.npy', peak_locations)\n",
    "    print(peak_locations.shape)\n",
    "peak_locations = np.load(peak_folder / 'peak_locations_monopolar_triangulation_log_limit.npy')"
   ]
  },
  {
   "cell_type": "code",
   "execution_count": null,
   "metadata": {},
   "outputs": [],
   "source": [
    "print(peak_locations.dtype.fields, peak_locations)"
   ]
  },
  {
   "cell_type": "markdown",
   "metadata": {},
   "source": [
    "## plot on probe"
   ]
  },
  {
   "cell_type": "code",
   "execution_count": null,
   "metadata": {},
   "outputs": [],
   "source": [
    "def clip_values_for_cmap(x):\n",
    "    low, high = np.percentile(x, [5, 95])\n",
    "    return np.clip(x, low, high)"
   ]
  },
  {
   "cell_type": "code",
   "execution_count": null,
   "metadata": {},
   "outputs": [],
   "source": [
    "fig, axs = plt.subplots(ncols=2, sharey=True, figsize=(15, 10))\n",
    "ax = axs[0]\n",
    "si.plot_probe_map(rec_preprocessed, ax=ax)\n",
    "ax.scatter(peak_locations['x'], peak_locations['y'], c=clip_values_for_cmap(peaks['amplitude']), s=1, alpha=0.002, cmap=plt.cm.plasma)\n",
    "ax.set_xlabel('x')\n",
    "ax.set_ylabel('y')\n",
    "if 'z' in peak_locations.dtype.fields:\n",
    "    ax = axs[1]\n",
    "    ax.scatter(peak_locations['z'], peak_locations['y'], c=clip_values_for_cmap(peaks['amplitude']), s=1, alpha=0.002, cmap=plt.cm.plasma)\n",
    "    ax.set_xlabel('z')\n",
    "    ax.set_xlim(0, 150)\n",
    "ax.set_ylim(1800, 2500)"
   ]
  },
  {
   "cell_type": "markdown",
   "metadata": {},
   "source": [
    "## plot peak depth vs time"
   ]
  },
  {
   "cell_type": "code",
   "execution_count": null,
   "metadata": {},
   "outputs": [],
   "source": [
    "fig, ax = plt.subplots()\n",
    "x = peaks['sample_ind'] / rec_preprocessed.get_sampling_frequency()\n",
    "y = peak_locations['y']\n",
    "ax.scatter(x, y, s=1, c=clip_values_for_cmap(peaks['amplitude']), cmap=plt.cm.plasma, alpha=0.25)\n",
    "ax.set_ylim(1300, 2500)"
   ]
  },
  {
   "cell_type": "markdown",
   "metadata": {},
   "source": [
    "## motion estimate : rigid with decentralized"
   ]
  },
  {
   "cell_type": "code",
   "execution_count": null,
   "metadata": {},
   "outputs": [],
   "source": [
    "from spikeinterface.sortingcomponents.motion_estimation import (\n",
    "    estimate_motion,\n",
    "    make_motion_histogram,\n",
    "    compute_pairwise_displacement,\n",
    "    compute_global_displacement\n",
    ")"
   ]
  },
  {
   "cell_type": "code",
   "execution_count": null,
   "metadata": {},
   "outputs": [],
   "source": [
    "bin_um = 5\n",
    "bin_duration_s=5.\n",
    "\n",
    "motion_histogram, temporal_bins, spatial_bins = make_motion_histogram(\n",
    "    rec_preprocessed,\n",
    "    peaks,\n",
    "    peak_locations=peak_locations, \n",
    "    bin_um=bin_um,\n",
    "    bin_duration_s=bin_duration_s,\n",
    "    direction='y',\n",
    "    weight_with_amplitude=False,\n",
    ")\n",
    "print(motion_histogram.shape, temporal_bins.size, spatial_bins.size)"
   ]
  },
  {
   "cell_type": "code",
   "execution_count": null,
   "metadata": {},
   "outputs": [],
   "source": [
    "fig, ax = plt.subplots()\n",
    "extent = (temporal_bins[0], temporal_bins[-1], spatial_bins[0], spatial_bins[-1])\n",
    "motion_histogram_vis = np.zeros_like(motion_histogram)\n",
    "vals = motion_histogram[motion_histogram > 0]\n",
    "vals -= vals.min()\n",
    "vals = np.clip(vals, 0, np.percentile(vals, 95))\n",
    "vals /= vals.max()\n",
    "motion_histogram_vis[motion_histogram > 0] = 3 + 20 * vals\n",
    "im = ax.imshow(\n",
    "    motion_histogram_vis.T,\n",
    "    interpolation='nearest',\n",
    "    origin='lower',\n",
    "    aspect='auto',\n",
    "    extent=extent,\n",
    "    cmap=plt.cm.cubehelix,\n",
    ")\n",
    "im.set_clim(0, 30)\n",
    "ax.set_ylim(1300, 2500)\n",
    "ax.set_xlabel('time[s]')\n",
    "ax.set_ylabel('depth[um]')\n"
   ]
  },
  {
   "cell_type": "markdown",
   "metadata": {},
   "source": [
    "## pariwise displacement from the motion histogram\n"
   ]
  },
  {
   "cell_type": "code",
   "execution_count": null,
   "metadata": {},
   "outputs": [],
   "source": [
    "conv_engine = \"numpy\"\n",
    "try:\n",
    "    import torch\n",
    "    conv_engine = \"torch\"\n",
    "except ImportError:\n",
    "    pass\n",
    "\n",
    "pairwise_displacement, pairwise_displacement_weight = compute_pairwise_displacement(\n",
    "    motion_histogram, bin_um, method='conv', conv_engine=conv_engine, progress_bar=True, max_displacement_um=600\n",
    ")\n",
    "np.save(peak_folder / 'pairwise_displacement_conv2d.npy', pairwise_displacement)\n",
    "\n"
   ]
  },
  {
   "cell_type": "code",
   "execution_count": null,
   "metadata": {},
   "outputs": [],
   "source": [
    "fig, ax = plt.subplots()\n",
    "extent = (temporal_bins[0], temporal_bins[-1], temporal_bins[0], temporal_bins[-1])\n",
    "# extent = None\n",
    "im = ax.imshow(\n",
    "    pairwise_displacement,\n",
    "    interpolation='nearest',\n",
    "    cmap='PiYG',\n",
    "    origin='lower',\n",
    "    aspect='auto',\n",
    "    extent=extent,\n",
    ")\n",
    "im.set_clim(-40, 40)\n",
    "ax.set_aspect('equal')\n",
    "fig.colorbar(im)"
   ]
  },
  {
   "cell_type": "markdown",
   "metadata": {},
   "source": [
    "## estimate motion (rigid) from the pairwise displacement"
   ]
  },
  {
   "cell_type": "code",
   "execution_count": null,
   "metadata": {},
   "outputs": [],
   "source": [
    "pairwise_displacement"
   ]
  },
  {
   "cell_type": "code",
   "execution_count": null,
   "metadata": {},
   "outputs": [],
   "source": [
    "# motion = compute_global_displacement(pairwise_displacement)\n",
    "\n",
    "motion_gd = compute_global_displacement(pairwise_displacement, convergence_method='gradient_descent')\n",
    "motion_sparse_lsqr = compute_global_displacement(\n",
    "    pairwise_displacement,\n",
    "    # thresholding correlations\n",
    "    sparse_mask=pairwise_displacement_weight > 0.6,\n",
    "    # weighting by correlations\n",
    "    pairwise_displacement_weight=pairwise_displacement_weight,\n",
    "    convergence_method='lsqr_robust',\n",
    "    lsqr_robust_n_iter=20,\n",
    "    robust_regression_sigma=2,\n",
    ")\n",
    "\n"
   ]
  },
  {
   "cell_type": "code",
   "execution_count": null,
   "metadata": {},
   "outputs": [],
   "source": [
    "fig, ax = plt.subplots()\n",
    "ax.plot(temporal_bins[:-1], motion_gd, label=\"convergence_method='gradient_descent'\")\n",
    "ax.plot(temporal_bins[:-1], motion_sparse_lsqr, label=\"convergence_method='lsqr_robust'\")\n",
    "plt.legend()"
   ]
  },
  {
   "cell_type": "markdown",
   "metadata": {},
   "source": [
    "## motion estimation with one unique funtion\n",
    "\n",
    "Internally `estimate_motion()` does:\n",
    "  * make_motion_histogram()\n",
    "  * compute_pairwise_displacement()\n",
    "  * compute_global_displacement()\n",
    "  "
   ]
  },
  {
   "cell_type": "code",
   "execution_count": null,
   "metadata": {},
   "outputs": [],
   "source": [
    "from spikeinterface.sortingcomponents.motion_estimation import estimate_motion\n",
    "from spikeinterface.widgets import plot_pairwise_displacement, plot_displacement"
   ]
  },
  {
   "cell_type": "code",
   "execution_count": null,
   "metadata": {},
   "outputs": [],
   "source": [
    "method='decentralized_registration'\n",
    "method_kwargs = dict(\n",
    "     pairwise_displacement_method='conv',\n",
    "     convergence_method='gradient_descent',\n",
    "     #convergence_method='lsqr_robust',\n",
    "    \n",
    ")\n",
    "\n",
    "# method='decentralized_registration'\n",
    "# method_kwargs = dict(\n",
    "#     pairwise_displacement_method='phase_cross_correlation',\n",
    "#     convergence_method='lsqr_robust',\n",
    "# )\n",
    "\n",
    "\n",
    "motion, temporal_bins, spatial_bins, extra_check = estimate_motion(\n",
    "    rec_preprocessed,\n",
    "    peaks,\n",
    "    peak_locations=peak_locations,\n",
    "    direction='y',\n",
    "    bin_duration_s=5.,\n",
    "    bin_um=10.,\n",
    "    method=method,\n",
    "    method_kwargs=method_kwargs,\n",
    "    non_rigid_kwargs=None,\n",
    "    output_extra_check=True,\n",
    "    progress_bar=True,\n",
    "    verbose=False,\n",
    "    upsample_to_histogram_bin=False,\n",
    ")"
   ]
  },
  {
   "cell_type": "code",
   "execution_count": null,
   "metadata": {},
   "outputs": [],
   "source": [
    "plot_pairwise_displacement(motion, temporal_bins, spatial_bins, extra_check, ncols=4)"
   ]
  },
  {
   "cell_type": "code",
   "execution_count": null,
   "metadata": {},
   "outputs": [],
   "source": [
    "plot_displacement(motion, temporal_bins, spatial_bins, extra_check, with_histogram=True)"
   ]
  },
  {
   "cell_type": "code",
   "execution_count": null,
   "metadata": {},
   "outputs": [],
   "source": [
    "fig, ax = plt.subplots()\n",
    "x = peaks['sample_ind'] / rec_preprocessed.get_sampling_frequency()\n",
    "y = peak_locations['y']\n",
    "ax.scatter(x, y, s=1, color='k', alpha=0.05)\n",
    "plot_displacement(motion, temporal_bins, spatial_bins, extra_check, with_histogram=False, ax=ax)"
   ]
  },
  {
   "cell_type": "markdown",
   "metadata": {},
   "source": [
    "## motion estimation non rigid\n"
   ]
  },
  {
   "cell_type": "code",
   "execution_count": null,
   "metadata": {},
   "outputs": [],
   "source": [
    "method='decentralized_registration'\n",
    "method_kwargs = dict(\n",
    "    pairwise_displacement_method='conv',\n",
    "    convergence_method='gradient_descent',\n",
    "    conv_engine=conv_engine,\n",
    "    batch_size=8,\n",
    "    corr_threshold=0.6,\n",
    ")\n",
    "\n",
    "motion, temporal_bins, spatial_bins, extra_check = estimate_motion(\n",
    "    rec_preprocessed,\n",
    "    peaks,\n",
    "    peak_locations=peak_locations,\n",
    "    direction='y',\n",
    "    bin_duration_s=5.,\n",
    "    bin_um=5.,\n",
    "    method=method,\n",
    "    method_kwargs=method_kwargs,\n",
    "    non_rigid_kwargs=dict(bin_step_um=400, sigma=3),\n",
    "    margin_um=-400,\n",
    "    output_extra_check=True,\n",
    "    progress_bar=True,\n",
    "    verbose=False,\n",
    "    upsample_to_histogram_bin=False,\n",
    ")\n"
   ]
  },
  {
   "cell_type": "code",
   "execution_count": null,
   "metadata": {},
   "outputs": [],
   "source": [
    "fig, ax = plt.subplots()\n",
    "for win in extra_check['non_rigid_windows']:\n",
    "    ax.plot(win, extra_check['spatial_hist_bins'][:-1])"
   ]
  },
  {
   "cell_type": "code",
   "execution_count": null,
   "metadata": {},
   "outputs": [],
   "source": [
    "plot_pairwise_displacement(motion, temporal_bins, spatial_bins, extra_check, ncols=4)"
   ]
  },
  {
   "cell_type": "code",
   "execution_count": null,
   "metadata": {},
   "outputs": [],
   "source": [
    "plot_displacement(motion, temporal_bins, spatial_bins, extra_check, with_histogram=True)"
   ]
  },
  {
   "cell_type": "code",
   "execution_count": null,
   "metadata": {},
   "outputs": [],
   "source": [
    "fig, ax = plt.subplots()\n",
    "x = peaks['sample_ind'] / rec_preprocessed.get_sampling_frequency()\n",
    "y = peak_locations['y']\n",
    "ax.scatter(x, y, s=1, color='k', alpha=0.05)\n",
    "plot_displacement(motion, temporal_bins, spatial_bins, extra_check, with_histogram=False, ax=ax)\n",
    "ax.set_ylim(0, 2000)"
   ]
  },
  {
   "cell_type": "code",
   "execution_count": null,
   "metadata": {},
   "outputs": [],
   "source": [
    "fig, ax = plt.subplots()\n",
    "ax.plot(temporal_bins, motion);"
   ]
  },
  {
   "cell_type": "code",
   "execution_count": null,
   "metadata": {},
   "outputs": [],
   "source": [
    "fig, ax = plt.subplots()\n",
    "im = ax.imshow(motion.T,\n",
    "    interpolation='nearest',\n",
    "    cmap='PiYG',\n",
    "    origin='lower',\n",
    "    aspect='auto',\n",
    "    # extent=extent,\n",
    ")\n",
    "im.set_clim(-40, 40)\n",
    "ax.set_aspect('equal')\n",
    "fig.colorbar(im);"
   ]
  },
  {
   "cell_type": "markdown",
   "metadata": {},
   "source": [
    "## upsample motion estimate to original domain and apply motion correction to peak localizations"
   ]
  },
  {
   "cell_type": "code",
   "execution_count": null,
   "metadata": {},
   "outputs": [],
   "source": [
    "from spikeinterface.sortingcomponents.motion_correction import correct_motion_on_peaks"
   ]
  },
  {
   "cell_type": "code",
   "execution_count": null,
   "metadata": {},
   "outputs": [],
   "source": [
    "motion_up, temporal_bins, spatial_bins_up, extra_check_up = estimate_motion(\n",
    "    rec_preprocessed,\n",
    "    peaks,\n",
    "    peak_locations=peak_locations,\n",
    "    direction='y',\n",
    "    bin_duration_s=5.,\n",
    "    bin_um=5.,\n",
    "    method=method,\n",
    "    method_kwargs=method_kwargs,\n",
    "    non_rigid_kwargs=dict(bin_step_um=300, sigma=3),\n",
    "    margin_um=-400,\n",
    "    output_extra_check=True,\n",
    "    progress_bar=True,\n",
    "    verbose=False,\n",
    "    upsample_to_histogram_bin=True,\n",
    ")"
   ]
  },
  {
   "cell_type": "code",
   "execution_count": null,
   "metadata": {},
   "outputs": [],
   "source": [
    "fig, ax = plt.subplots()\n",
    "im = ax.imshow(motion_up.T,\n",
    "    interpolation='nearest',\n",
    "    cmap='PiYG',\n",
    "    origin='lower',\n",
    "    aspect='auto',\n",
    "    extent=extent,\n",
    ")\n",
    "im.set_clim(-40, 40)\n",
    "ax.set_aspect('equal')\n",
    "fig.colorbar(im);"
   ]
  },
  {
   "cell_type": "code",
   "execution_count": null,
   "metadata": {},
   "outputs": [],
   "source": [
    "times = peaks['sample_ind'] / rec_preprocessed.get_sampling_frequency()\n",
    "corrected_peak_locations = correct_motion_on_peaks(peaks, peak_locations, times,\n",
    "                            motion_up, temporal_bins, spatial_bins_up,\n",
    "                            direction='y', progress_bar=False)"
   ]
  },
  {
   "cell_type": "code",
   "execution_count": null,
   "metadata": {},
   "outputs": [],
   "source": [
    "fig, ax = plt.subplots()\n",
    "x = peaks['sample_ind'] / rec_preprocessed.get_sampling_frequency()\n",
    "y = peak_locations['y']\n",
    "ax.scatter(x, y, s=1, c=clip_values_for_cmap(peaks['amplitude']), cmap=plt.cm.plasma, alpha=0.25)\n",
    "ax.set_ylim(1300, 2500)\n",
    "ax.set_title(\"unregistered localizations\")\n",
    "ax.set_xlabel(\"time (s)\")\n",
    "ax.set_ylabel(\"depth (um)\");"
   ]
  },
  {
   "cell_type": "code",
   "execution_count": null,
   "metadata": {},
   "outputs": [],
   "source": [
    "fig, ax = plt.subplots()\n",
    "x = peaks['sample_ind'] / rec_preprocessed.get_sampling_frequency()\n",
    "y = corrected_peak_locations['y']\n",
    "ax.scatter(x, y, s=1, c=clip_values_for_cmap(peaks['amplitude']), cmap=plt.cm.plasma, alpha=0.25)\n",
    "ax.set_ylim(1300, 2500)\n",
    "ax.set_title(\"registered localizations\")\n",
    "ax.set_xlabel(\"time (s)\")\n",
    "ax.set_ylabel(\"depth (um)\");"
   ]
  },
  {
   "cell_type": "code",
   "execution_count": null,
   "metadata": {},
   "outputs": [],
   "source": []
  }
 ],
 "metadata": {
  "interpreter": {
   "hash": "af5883fe1b1a84f133f3a10f82c0ad88dc2714469f432eab277f54bf704d96ae"
  },
  "kernelspec": {
   "display_name": "Python 3 (ipykernel)",
   "language": "python",
   "name": "python3"
  },
  "language_info": {
   "codemirror_mode": {
    "name": "ipython",
    "version": 3
   },
   "file_extension": ".py",
   "mimetype": "text/x-python",
   "name": "python",
   "nbconvert_exporter": "python",
   "pygments_lexer": "ipython3",
   "version": "3.9.9"
  },
  "nikola": {
   "category": "",
   "date": "2022-04-13 16:45:17 UTC+02:00",
   "description": "",
   "link": "",
   "slug": "spikeinterface-motion-estimation",
   "tags": "sortingcomponents_examples",
   "title": "spikeinterface motion estimation / correction",
   "type": "text"
  }
 },
 "nbformat": 4,
 "nbformat_minor": 4
}
